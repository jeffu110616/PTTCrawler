{
 "cells": [
  {
   "cell_type": "code",
   "execution_count": null,
   "metadata": {},
   "outputs": [],
   "source": [
    "import pandas as pd\n",
    "from bs4 import BeautifulSoup\n",
    "import requests\n",
    "from tqdm import tqdm\n",
    "from datetime import datetime\n",
    "import numpy as np\n",
    "import re\n",
    "from sys import exit"
   ]
  },
  {
   "cell_type": "code",
   "execution_count": null,
   "metadata": {},
   "outputs": [],
   "source": [
    "def parseArticle(url):\n",
    "    res = requests.get(url)\n",
    "    soup = BeautifulSoup(res.text, 'html.parser')\n",
    "    counter = 0\n",
    "    targetIdx = \"\"\n",
    "    targetName = \"\"\n",
    "    stance = \"\"\n",
    "    content = \"\"\n",
    "    time = None\n",
    "    flag = False\n",
    "    main_content = soup.find('div', id='main-content')\n",
    "    if main_content == None:\n",
    "        return dict(targetIdx='n/a', targetName='n/a', stance='n/a', content='n/a')\n",
    "        \n",
    "    for line in main_content.text.split('\\n'):\n",
    "        counter += 1\n",
    "        if counter == 1:\n",
    "#             print(line)\n",
    "#             print(datetime.strptime(line[line.find('時間')+2:], '%a %b %d %H:%M:%S %Y'))\n",
    "            try:\n",
    "                time = datetime.strptime(line[line.find('時間')+2:], '%a %b %d %H:%M:%S %Y')\n",
    "            except:\n",
    "                time = None\n",
    "\n",
    "        if line == '--':\n",
    "            break\n",
    "        if flag:\n",
    "            stance = line\n",
    "            flag = False\n",
    "            \n",
    "        content += line + '\\n'\n",
    "\n",
    "        if line.find('1. 標的：') == 0:\n",
    "            targetIdx = re.search(\"[0-9]{4}\", line[6:]).group(0) if re.search(\"[0-9]{4}\", line[6:]) else ''\n",
    "            targetName = line[6:] if (targetIdx=='') else line[6:].replace(targetIdx, '')\n",
    "        elif line.find('2. 分類：') == 0:\n",
    "            stance = line[6:]\n",
    "            if stance == '多/空/請益/心得':\n",
    "                flag = True\n",
    "    \n",
    "    return dict(targetIdx=targetIdx, targetName=targetName, stance=stance, content=content, date=time)\n",
    "\n",
    "        "
   ]
  },
  {
   "cell_type": "code",
   "execution_count": null,
   "metadata": {},
   "outputs": [],
   "source": [
    "def parsePage(page): # return list of articles\n",
    "    url = 'https://www.ptt.cc/bbs/Stock/search?page={}&q=%5B%E6%A8%99%E7%9A%84%5D'.format(page) # find [標的]\n",
    "    res = requests.get(url)\n",
    "#     print(res.text)\n",
    "    soup = BeautifulSoup(res.text, 'html.parser')\n",
    "    ls_ent = soup.find_all('div', class_='r-ent')\n",
    "    ls_article = []\n",
    "    for article in ls_ent:\n",
    "        dt_article = {}\n",
    "        dt_article['title']  = article.find('a').text\n",
    "        if dt_article['title'][:4] == 'Re: ':\n",
    "            continue\n",
    "        dt_article['link']   = 'https://www.ptt.cc' + article.find('a')['href']\n",
    "        dt_article['author'] = article.find('div', class_='author').text\n",
    "        dt_article['date_str'] = article.find('div', class_='date').text.replace(' ', '')\n",
    "        dt_content = parseArticle(dt_article['link'])\n",
    "        for k in dt_content:\n",
    "            dt_article[k] = dt_content[k]\n",
    "        ls_article.append(dt_article)\n",
    "    return ls_article    "
   ]
  },
  {
   "cell_type": "code",
   "execution_count": null,
   "metadata": {},
   "outputs": [],
   "source": [
    "parseArticle('https://www.ptt.cc/bbs/Stock/M.1569433614.A.52A.html')"
   ]
  },
  {
   "cell_type": "code",
   "execution_count": null,
   "metadata": {},
   "outputs": [],
   "source": [
    "def main():\n",
    "    ls_article = []\n",
    "    for i in tqdm(range(1000)):\n",
    "        ls_article += parsePage(i)\n",
    "    \n",
    "    col_order = ['date', 'targetIdx', 'targetName', 'title', 'stance', 'author', 'link', 'content']\n",
    "    df_all = pd.DataFrame(ls_article, columns=col_order)\n",
    "    df_all.to_csv('/nfs/nas-7.1/cflin/data/pttStock/articles_large.tsv', index=False, sep='\\t')"
   ]
  }
 ],
 "metadata": {
  "kernelspec": {
   "display_name": "Python 3",
   "language": "python",
   "name": "python3"
  },
  "language_info": {
   "codemirror_mode": {
    "name": "ipython",
    "version": 3
   },
   "file_extension": ".py",
   "mimetype": "text/x-python",
   "name": "python",
   "nbconvert_exporter": "python",
   "pygments_lexer": "ipython3",
   "version": "3.7.3"
  }
 },
 "nbformat": 4,
 "nbformat_minor": 2
}
